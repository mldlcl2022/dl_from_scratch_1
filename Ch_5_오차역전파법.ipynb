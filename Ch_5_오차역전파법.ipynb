{
  "nbformat": 4,
  "nbformat_minor": 0,
  "metadata": {
    "colab": {
      "provenance": [],
      "toc_visible": true,
      "authorship_tag": "ABX9TyOdtECVwNzCl6KFxxQ0+V4X",
      "include_colab_link": true
    },
    "kernelspec": {
      "name": "python3",
      "display_name": "Python 3"
    },
    "language_info": {
      "name": "python"
    }
  },
  "cells": [
    {
      "cell_type": "markdown",
      "metadata": {
        "id": "view-in-github",
        "colab_type": "text"
      },
      "source": [
        "<a href=\"https://colab.research.google.com/github/mldlcl2022/dl_from_scratch_1/blob/main/Ch_5_%EC%98%A4%EC%B0%A8%EC%97%AD%EC%A0%84%ED%8C%8C%EB%B2%95.ipynb\" target=\"_parent\"><img src=\"https://colab.research.google.com/assets/colab-badge.svg\" alt=\"Open In Colab\"/></a>"
      ]
    },
    {
      "cell_type": "markdown",
      "source": [
        "* 책의 모든 코드는 구글 코랩(Google Colab)을 활용하여 실습"
      ],
      "metadata": {
        "id": "In9cJGzxc2k-"
      }
    },
    {
      "cell_type": "markdown",
      "source": [
        "# Chapter 5. 오차역전파법\n",
        "240123"
      ],
      "metadata": {
        "id": "yeL-vknTc87n"
      }
    },
    {
      "cell_type": "markdown",
      "source": [
        "## 5.4 단순한 계층 구현하기(p.160)"
      ],
      "metadata": {
        "id": "DdkDujhGdBdm"
      }
    },
    {
      "cell_type": "markdown",
      "source": [
        "### 5.4.1 곱셈 계층"
      ],
      "metadata": {
        "id": "oipnUSgVdE3L"
      }
    },
    {
      "cell_type": "code",
      "execution_count": 1,
      "metadata": {
        "id": "ysujMMmYctXQ"
      },
      "outputs": [],
      "source": [
        "class MulLayer :\n",
        "    def __init__(self) :\n",
        "        self.x = None\n",
        "        self.y = None\n",
        "\n",
        "    def forward(self, x, y) :\n",
        "        self.x = x\n",
        "        self.y = y\n",
        "        out = x * y\n",
        "\n",
        "        return out\n",
        "\n",
        "    def backward(self, dout) :\n",
        "        # x와 y를 바꿈\n",
        "        dx = dout * self.y\n",
        "        dy = dout * self.x\n",
        "\n",
        "        return dx, dy"
      ]
    },
    {
      "cell_type": "code",
      "source": [
        "apple = 100   # 사과 개당 100원\n",
        "apple_num = 2 # 사과 갯수 2개\n",
        "tax = 1.1     # 소비세 1.1%\n",
        "\n",
        "# 계층\n",
        "mul_apple_layer = MulLayer()\n",
        "mul_tax_layer = MulLayer()\n",
        "\n",
        "# 순전파\n",
        "apple_price = mul_apple_layer.forward(apple, apple_num)\n",
        "price = mul_tax_layer.forward(apple_price, tax)\n",
        "\n",
        "# 결과 출력\n",
        "print(price)"
      ],
      "metadata": {
        "colab": {
          "base_uri": "https://localhost:8080/"
        },
        "id": "OV-LFeQOfBJT",
        "outputId": "2f94dc88-f8c4-4911-be21-1a5b87832781"
      },
      "execution_count": 2,
      "outputs": [
        {
          "output_type": "stream",
          "name": "stdout",
          "text": [
            "220.00000000000003\n"
          ]
        }
      ]
    },
    {
      "cell_type": "code",
      "source": [
        "# 역전파\n",
        "dprice = 1\n",
        "dapple_price, dtax = mul_tax_layer.backward(dprice)\n",
        "dapple, dapple_num = mul_apple_layer.backward(dapple_price)\n",
        "\n",
        "# 결과 출력\n",
        "print(dapple, dapple_num, dtax)"
      ],
      "metadata": {
        "colab": {
          "base_uri": "https://localhost:8080/"
        },
        "id": "BQs2YlfJff-M",
        "outputId": "36bd52a3-f313-4b8e-8489-c926dfe2449c"
      },
      "execution_count": 3,
      "outputs": [
        {
          "output_type": "stream",
          "name": "stdout",
          "text": [
            "2.2 110.00000000000001 200\n"
          ]
        }
      ]
    },
    {
      "cell_type": "markdown",
      "source": [
        "### 5.4.2 덧셈 계층"
      ],
      "metadata": {
        "id": "HS9T0V-mgUII"
      }
    },
    {
      "cell_type": "code",
      "source": [
        "class AddLayer :\n",
        "    def __init__(self) :\n",
        "        pass\n",
        "\n",
        "    def forward(self, x, y) :\n",
        "        out = x + y\n",
        "\n",
        "        return out\n",
        "\n",
        "    def backward(self, dout) :\n",
        "        dx = dout * 1\n",
        "        dy = dout * 1\n",
        "\n",
        "        return dx, dy"
      ],
      "metadata": {
        "id": "z1eFm8c7gDe9"
      },
      "execution_count": 4,
      "outputs": []
    },
    {
      "cell_type": "code",
      "source": [
        "apple = 100    # 사과 개당 100원\n",
        "apple_num = 2  # 사과 갯수 2개\n",
        "orange = 150   # 오렌지 개당 150원\n",
        "orange_num = 3 # 오렌지 갯수 3개\n",
        "tax = 1.1      # 소비세 1.1%\n",
        "\n",
        "# 계층\n",
        "mul_apple_layer = MulLayer()\n",
        "mul_orange_layer = MulLayer()\n",
        "add_apple_orange_layer = AddLayer()\n",
        "mul_tax_layer = MulLayer()\n",
        "\n",
        "# 순전파\n",
        "apple_price = mul_apple_layer.forward(apple, apple_num)\n",
        "orange_price = mul_orange_layer.forward(orange, orange_num)\n",
        "all_price = add_apple_orange_layer.forward(apple_price, orange_price)\n",
        "price = mul_tax_layer.forward(all_price, tax)\n",
        "\n",
        "# 역전파\n",
        "dprice = 1\n",
        "dall_price, dtax = mul_tax_layer.backward(dprice)\n",
        "dapple_price, dorange_price = add_apple_orange_layer.backward(dall_price)\n",
        "dorange, dorange_num = mul_orange_layer.backward(dorange_price)\n",
        "dapple, dapple_num = mul_apple_layer.backward(dapple_price)\n",
        "\n",
        "# 결과 출력\n",
        "print(\"price :\", int(price))\n",
        "print()\n",
        "print(\"dApple :\", dapple)\n",
        "print(\"dApple_num :\", int(dapple_num))\n",
        "print(\"dOrange :\", dorange)\n",
        "print(\"dOrange_num :\", int(dorange_num))\n",
        "print(\"dTax :\", dtax)"
      ],
      "metadata": {
        "colab": {
          "base_uri": "https://localhost:8080/"
        },
        "id": "g9KJYs5Xgk7c",
        "outputId": "03490c1a-097c-4d77-917f-37b066b5f34d"
      },
      "execution_count": 5,
      "outputs": [
        {
          "output_type": "stream",
          "name": "stdout",
          "text": [
            "price : 715\n",
            "\n",
            "dApple : 2.2\n",
            "dApple_num : 110\n",
            "dOrange : 3.3000000000000003\n",
            "dOrange_num : 165\n",
            "dTax : 650\n"
          ]
        }
      ]
    },
    {
      "cell_type": "markdown",
      "source": [
        "## 5.5 활성화 함수 계층 구현하기(p.165)"
      ],
      "metadata": {
        "id": "7h_FRfQalDz8"
      }
    },
    {
      "cell_type": "markdown",
      "source": [
        "### 5.5.1 ReLU 계층"
      ],
      "metadata": {
        "id": "DOWJg1UDlHWA"
      }
    },
    {
      "cell_type": "code",
      "source": [
        "class Relu :\n",
        "    def __init__(self) :\n",
        "        self.mask = None\n",
        "\n",
        "    def forward(self, x) :\n",
        "        self.mask = (x <= 0) # x값이 0보다 작거나 같으면 True, 0보다 크면 False\n",
        "        out = x.copy()\n",
        "        out[self.mask] = 0\n",
        "\n",
        "        return out\n",
        "\n",
        "    def backward(self, dout) :\n",
        "        dout[self.mask] = 0\n",
        "        dx = dout\n",
        "\n",
        "        return dx"
      ],
      "metadata": {
        "id": "BTN3a9IqjTiw"
      },
      "execution_count": 6,
      "outputs": []
    },
    {
      "cell_type": "code",
      "source": [
        "import numpy as np\n",
        "\n",
        "x = np.array([[1.0,-0.5],[-2.0,3.0]])\n",
        "print(x)"
      ],
      "metadata": {
        "colab": {
          "base_uri": "https://localhost:8080/"
        },
        "id": "4e34ENU8mV7y",
        "outputId": "5478d63c-e4b9-4d87-a0e9-05322b6bd013"
      },
      "execution_count": 7,
      "outputs": [
        {
          "output_type": "stream",
          "name": "stdout",
          "text": [
            "[[ 1.  -0.5]\n",
            " [-2.   3. ]]\n"
          ]
        }
      ]
    },
    {
      "cell_type": "code",
      "source": [
        "mask = (x <= 0)\n",
        "print(mask)"
      ],
      "metadata": {
        "colab": {
          "base_uri": "https://localhost:8080/"
        },
        "id": "YWYGMeClmaJB",
        "outputId": "186fedb6-e0db-4e8e-a000-8d95b206705b"
      },
      "execution_count": 8,
      "outputs": [
        {
          "output_type": "stream",
          "name": "stdout",
          "text": [
            "[[False  True]\n",
            " [ True False]]\n"
          ]
        }
      ]
    },
    {
      "cell_type": "markdown",
      "source": [
        "### 5.5.2 Sigmoid 계층"
      ],
      "metadata": {
        "id": "03-Pdwx5m005"
      }
    },
    {
      "cell_type": "code",
      "source": [
        "class Sigmoid :\n",
        "    def __init__(self) :\n",
        "        self.out = None\n",
        "\n",
        "    def forward(self, x) :\n",
        "        out = 1 / (1+exp(-x))\n",
        "        self.out = out\n",
        "\n",
        "        return out\n",
        "\n",
        "    def backward(self, dout) :\n",
        "        dx = dout * self.out * (1.0 - self.out)\n",
        "\n",
        "        return dx"
      ],
      "metadata": {
        "id": "yQkbCaDtmhIB"
      },
      "execution_count": 9,
      "outputs": []
    },
    {
      "cell_type": "markdown",
      "source": [
        "## 5.6 Affine/Softmax 계층 구현하기(p.170)"
      ],
      "metadata": {
        "id": "2_zTAb0CpdgO"
      }
    },
    {
      "cell_type": "markdown",
      "source": [
        "### 5.6.2 배치용 Affine 계층"
      ],
      "metadata": {
        "id": "XZEc3N_-phSW"
      }
    },
    {
      "cell_type": "code",
      "source": [
        "X_dot_W = np.array([[0,0,0],[10,10,10]])\n",
        "B = np.array([1,2,3])"
      ],
      "metadata": {
        "id": "Gxo2WBvQpYdt"
      },
      "execution_count": 10,
      "outputs": []
    },
    {
      "cell_type": "code",
      "source": [
        "X_dot_W"
      ],
      "metadata": {
        "colab": {
          "base_uri": "https://localhost:8080/"
        },
        "id": "aELsoN7lwd0T",
        "outputId": "0dbe44ee-41d5-4282-d0d9-1c57b9ff66a6"
      },
      "execution_count": 11,
      "outputs": [
        {
          "output_type": "execute_result",
          "data": {
            "text/plain": [
              "array([[ 0,  0,  0],\n",
              "       [10, 10, 10]])"
            ]
          },
          "metadata": {},
          "execution_count": 11
        }
      ]
    },
    {
      "cell_type": "code",
      "source": [
        "B"
      ],
      "metadata": {
        "colab": {
          "base_uri": "https://localhost:8080/"
        },
        "id": "FrXwqKH_wgRC",
        "outputId": "ca98d86b-155d-4ae7-d721-ae5927957e96"
      },
      "execution_count": 12,
      "outputs": [
        {
          "output_type": "execute_result",
          "data": {
            "text/plain": [
              "array([1, 2, 3])"
            ]
          },
          "metadata": {},
          "execution_count": 12
        }
      ]
    },
    {
      "cell_type": "code",
      "source": [
        "X_dot_W + B"
      ],
      "metadata": {
        "colab": {
          "base_uri": "https://localhost:8080/"
        },
        "id": "whuwjgCxwg46",
        "outputId": "0511a867-86be-4315-d9ec-06d235f3ce19"
      },
      "execution_count": 13,
      "outputs": [
        {
          "output_type": "execute_result",
          "data": {
            "text/plain": [
              "array([[ 1,  2,  3],\n",
              "       [11, 12, 13]])"
            ]
          },
          "metadata": {},
          "execution_count": 13
        }
      ]
    },
    {
      "cell_type": "code",
      "source": [
        "dY = np.array([[1,2,3],[4,5,6]])"
      ],
      "metadata": {
        "id": "I6AGiDttwid6"
      },
      "execution_count": 14,
      "outputs": []
    },
    {
      "cell_type": "code",
      "source": [
        "dY"
      ],
      "metadata": {
        "colab": {
          "base_uri": "https://localhost:8080/"
        },
        "id": "84ka9xi8wria",
        "outputId": "12ad812f-df59-450b-b90a-9e084a5eb6f5"
      },
      "execution_count": 15,
      "outputs": [
        {
          "output_type": "execute_result",
          "data": {
            "text/plain": [
              "array([[1, 2, 3],\n",
              "       [4, 5, 6]])"
            ]
          },
          "metadata": {},
          "execution_count": 15
        }
      ]
    },
    {
      "cell_type": "code",
      "source": [
        "dB = np.sum(dY, axis= 0)\n",
        "dB"
      ],
      "metadata": {
        "colab": {
          "base_uri": "https://localhost:8080/"
        },
        "id": "WbCNFhjwwr_r",
        "outputId": "11db0b5e-936f-4c04-ab3f-bb9b645e2a7c"
      },
      "execution_count": 16,
      "outputs": [
        {
          "output_type": "execute_result",
          "data": {
            "text/plain": [
              "array([5, 7, 9])"
            ]
          },
          "metadata": {},
          "execution_count": 16
        }
      ]
    },
    {
      "cell_type": "code",
      "source": [
        "class Affine :\n",
        "    def __init__(self, W, b) :\n",
        "        self.W = W\n",
        "        self.b = b\n",
        "        self.x = None\n",
        "        self.dW = None\n",
        "        self.db = None\n",
        "\n",
        "    def forward(self, x) :\n",
        "        self.x = x\n",
        "        out = np.dot(x, self.W) + self.b\n",
        "\n",
        "        return out\n",
        "\n",
        "    def backward(self, dout) :\n",
        "        dx = np.dot(dout, self.W.T)\n",
        "        self.dW = np.dot(self.x.T, dout)\n",
        "        self.db = np.sum(dout, axis= 0)\n",
        "\n",
        "        return dx"
      ],
      "metadata": {
        "id": "vUe8TMywwwXy"
      },
      "execution_count": 17,
      "outputs": []
    },
    {
      "cell_type": "code",
      "source": [
        "import numpy as np\n",
        "\n",
        "a = np.array([[1,2,3],[4,5,6]])\n",
        "print(a)\n",
        "print(np.sum(a, axis= 0))"
      ],
      "metadata": {
        "colab": {
          "base_uri": "https://localhost:8080/"
        },
        "id": "y45EqYBBbBSD",
        "outputId": "35040a4f-fecb-4d3c-e795-dc1c75e3a127"
      },
      "execution_count": 18,
      "outputs": [
        {
          "output_type": "stream",
          "name": "stdout",
          "text": [
            "[[1 2 3]\n",
            " [4 5 6]]\n",
            "[5 7 9]\n"
          ]
        }
      ]
    },
    {
      "cell_type": "markdown",
      "source": [
        "### 5.6.3 Softmax-with-Loss 계층"
      ],
      "metadata": {
        "id": "Jtlj0EQmxbIy"
      }
    },
    {
      "cell_type": "code",
      "source": [
        "def softmax(a) :\n",
        "    exp_a = np.exp(a)\n",
        "    sum_exp_a = np.sum(exp_a)\n",
        "    y = exp_a/sum_exp_a\n",
        "\n",
        "    return y\n",
        "\n",
        "def cross_entropy_error(y,t) :\n",
        "    delta = 1e-7\n",
        "\n",
        "    return -np.sum(t * np.log(y + delta))"
      ],
      "metadata": {
        "id": "8IUEfXnP1N6B"
      },
      "execution_count": 19,
      "outputs": []
    },
    {
      "cell_type": "code",
      "source": [
        "class SoftmaxWithLoss :\n",
        "    def __init__(self) :\n",
        "        self.loss = None # 손실\n",
        "        self.y = None    # softmax의 출력\n",
        "        self.t = None    # 정답 레이블(one-hot-vector)\n",
        "\n",
        "    def forward(self, x, t) :\n",
        "        self.t = t\n",
        "        self.y = softmax(x)\n",
        "        self.loss = cross_entropy_error(self.y, self.t)\n",
        "\n",
        "        return self.loss\n",
        "\n",
        "    def backward(self, dout= 1) :\n",
        "        batch_size = self.t.shape[0]\n",
        "        dx = (self.y - self.t) / batch_size\n",
        "\n",
        "        return dx"
      ],
      "metadata": {
        "id": "d5vtrYZPxYYL"
      },
      "execution_count": 20,
      "outputs": []
    },
    {
      "cell_type": "markdown",
      "source": [
        "## 5.7 오차역전파법 구현하기(p.179)"
      ],
      "metadata": {
        "id": "1lPYRTV312_Q"
      }
    },
    {
      "cell_type": "markdown",
      "source": [
        "### 5.7.2 오차역전파법을 적용한 신경망 구현하기\n",
        "240125"
      ],
      "metadata": {
        "id": "ghUsjNf216w2"
      }
    },
    {
      "cell_type": "code",
      "source": [
        "# 구글 드라이브 마운트하기\n",
        "from google.colab import drive\n",
        "drive.mount('/content/drive')\n",
        "\n",
        "# .py 파일이 위치한 경로로 이동\n",
        "%cd /content/drive/MyDrive/Colab Notebooks/밑바닥부터 시작하는 딥러닝/dataset\n",
        "\n",
        "import numpy as np\n",
        "from common.layers import *\n",
        "from common.gradient import numerical_gradient\n",
        "from collections import OrderedDict\n",
        "\n",
        "# Affine 계층\n",
        "class Affine :\n",
        "    def __init(self, W, b) :\n",
        "        self.W = W\n",
        "        self.b = b\n",
        "        self.x = None\n",
        "        self.dW = None\n",
        "        self.db = None\n",
        "\n",
        "    def forward(self, x) :\n",
        "        self.x = x\n",
        "        out = np.dot(x, self.W) + self.b\n",
        "\n",
        "        return out\n",
        "\n",
        "    def backward(self, dout) :\n",
        "        dx = np.dot(dout, self.W.T)\n",
        "        self.dW = np.dot(self.x.T, dout)\n",
        "        self.db = np.sum(dout, axis= 0)\n",
        "\n",
        "        return dx\n",
        "\n",
        "# ReLU 계층\n",
        "class Relu :\n",
        "    def __init__(self) :\n",
        "        self.mask = None\n",
        "\n",
        "    def forward(self, x) :\n",
        "        # x값이 0보다 작거나 같으면 True, 0보다 크면 False\n",
        "        self.mask = (x <= 0)\n",
        "        out = x.copy()\n",
        "        out[self.mask] = 0\n",
        "\n",
        "        return out\n",
        "\n",
        "    def backward(self, dout) :\n",
        "        dout[self.mask] = 0\n",
        "        dx = dout\n",
        "\n",
        "        return dx\n",
        "\n",
        "# Softmax-With-Loss 계층\n",
        "class SoftmaxWithLoss :\n",
        "    def __init__(self) :\n",
        "        self.loss = None # 손실\n",
        "        self.y = None    # softmax의 출력\n",
        "        self.t = None    # 정답 레이블(one-hot-vector)\n",
        "\n",
        "    def softmax(a) :\n",
        "        exp_a = np.exp(a)\n",
        "        sum_exp_a = np.sum(exp_a)\n",
        "        y = exp_a / sum_exp_a\n",
        "\n",
        "        return y\n",
        "\n",
        "    def cross_entropy_error(y, t) :\n",
        "        delta = 1e-7\n",
        "\n",
        "        return -np.sum(t * np.log(y + delta))\n",
        "\n",
        "    def forward(self, x, t) :\n",
        "        self.t = t\n",
        "        self.y = softmax(x)\n",
        "        self.loss = cross_entropy_error(self.y, self.t)\n",
        "\n",
        "        return self.loss\n",
        "\n",
        "    def backward(self, dout= 1) :\n",
        "        batch_size = self.t.shape[0]\n",
        "        dx = (self.y - self.t) / batch_size\n",
        "\n",
        "        return dx\n",
        "\n",
        "class TwoLayerNet :\n",
        "    def __init__(self, input_size, hidden_size, output_size, weight_init_std= 0.01) :\n",
        "        # 가중치 초기화\n",
        "        self.params = {}\n",
        "        self.params['W1'] = weight_init_std * np.random.randn(input_size, hidden_size)\n",
        "        self.params['b1'] = np.zeros(hidden_size)\n",
        "        self.params['W2'] = weight_init_std * np.random.randn(hidden_size, output_size)\n",
        "        self.params['b2'] = np.zeros(output_size)\n",
        "\n",
        "        # 계층 생성\n",
        "        self.layers = OrderedDict()\n",
        "        self.layers['Affine1'] = Affine(self.params['W1'], self.params['b1'])\n",
        "        self.layers['Relu1'] = Relu()\n",
        "        self.layers['Affine2'] = Affine(self.params['W2'], self.params['b2'])\n",
        "\n",
        "        self.lastLayer = SoftmaxWithLoss()\n",
        "\n",
        "    def predict(self, x) :\n",
        "        for layer in self.layers.values() :\n",
        "            x = layer.forward(x)\n",
        "\n",
        "        return x\n",
        "\n",
        "    def loss(self, x, t) : # x : 입력 데이터, t : 정답 레이블\n",
        "        y = self.predict(x)\n",
        "        return self.lastLayer.forward(y, t)\n",
        "\n",
        "    def accuracy(self, x, t) :\n",
        "        y = self.predict(x)\n",
        "        y = np.argmax(y, axis= 1)\n",
        "\n",
        "        if t.ndim != 1 : t = np.argmax(t, axis= 1)\n",
        "\n",
        "        accuracy = np.sum(y == t) / float(x.shape[0])\n",
        "\n",
        "        return accuracy\n",
        "\n",
        "    def numerical_gradient(self, x, t) : # x : 입력 데이터, t : 정답 레이블\n",
        "        loss_W = lambda W: self.loss(x, t)\n",
        "\n",
        "        grads = {}\n",
        "        grads['W1'] = numerical_gradient(loss_W, self.params['W1'])\n",
        "        grads['b1'] = numerical_gradient(loss_W, self.params['b1'])\n",
        "        grads['W2'] = numerical_gradient(loss_W, self.params['W2'])\n",
        "        grads['b2'] = numerical_gradient(loss_W, self.params['b2'])\n",
        "\n",
        "        return grads\n",
        "\n",
        "    def gradient(self, x, t) :\n",
        "        # 순전파\n",
        "        self.loss(x, t)\n",
        "\n",
        "        # 역전파\n",
        "        dout = 1\n",
        "        dout = self.lastLayer.backward(dout)\n",
        "\n",
        "        layers = list(self.layers.values())\n",
        "        layers.reverse()\n",
        "        for layer in layers :\n",
        "            dout = layer.backward(dout)\n",
        "\n",
        "        # 결과 저장\n",
        "        grads = {}\n",
        "        grads['W1'] = self.layers['Affine1'].dW\n",
        "        grads['b1'] = self.layers['Affine1'].db\n",
        "        grads['W2'] = self.layers['Affine2'].dW\n",
        "        grads['b2'] = self.layers['Affine2'].db\n",
        "\n",
        "        return grads"
      ],
      "metadata": {
        "colab": {
          "base_uri": "https://localhost:8080/"
        },
        "id": "t6a2yfKC1vSg",
        "outputId": "16447329-17b4-40c6-8c59-191e1c15c0f1"
      },
      "execution_count": 21,
      "outputs": [
        {
          "output_type": "stream",
          "name": "stdout",
          "text": [
            "Mounted at /content/drive\n",
            "/content/drive/MyDrive/Colab Notebooks/밑바닥부터 시작하는 딥러닝/dataset\n"
          ]
        }
      ]
    },
    {
      "cell_type": "markdown",
      "source": [
        "### 5.7.3 오차역전파법으로 구한 기울기 검증하기"
      ],
      "metadata": {
        "id": "2e0JGb8h3yox"
      }
    },
    {
      "cell_type": "code",
      "source": [
        "# 구글 드라이브 마운트하기\n",
        "from google.colab import drive\n",
        "drive.mount('/content/drive')\n",
        "\n",
        "# .py 파일이 위치한 경로로 이동\n",
        "%cd /content/drive/MyDrive/Colab Notebooks/밑바닥부터 시작하는 딥러닝/dataset\n",
        "\n",
        "import numpy as np\n",
        "from mnist import load_mnist\n",
        "from two_layer_net import TwoLayerNet\n",
        "\n",
        "# 데이터 불러오기\n",
        "(x_train, t_train), (x_test, t_test) = load_mnist(normalize= True, one_hot_label= True)\n",
        "\n",
        "# Net\n",
        "network = TwoLayerNet(input_size= 784, hidden_size= 50, output_size= 10)\n",
        "\n",
        "x_batch = x_train[:3]\n",
        "t_batch = t_train[:3]\n",
        "\n",
        "grad_numerical = network.numerical_gradient(x_batch, t_batch)\n",
        "grad_backprop = network.gradient(x_batch, t_batch)\n",
        "\n",
        "# 각 가중치의 차이의 절댓값을 구한 후, 그 절댓값들의 평균을 도출\n",
        "for key in grad_numerical.keys() :\n",
        "    diff = np.average(np.abs(grad_backprop[key] - grad_numerical[key]))\n",
        "    print(key + ' : ' + str(diff))"
      ],
      "metadata": {
        "id": "DdEO3OT331bO",
        "colab": {
          "base_uri": "https://localhost:8080/"
        },
        "outputId": "f0c324ae-e420-4ae6-8f99-64cf58f9d608"
      },
      "execution_count": 23,
      "outputs": [
        {
          "output_type": "stream",
          "name": "stdout",
          "text": [
            "Drive already mounted at /content/drive; to attempt to forcibly remount, call drive.mount(\"/content/drive\", force_remount=True).\n",
            "/content/drive/MyDrive/Colab Notebooks/밑바닥부터 시작하는 딥러닝/dataset\n",
            "W1 : 2.074286660233999e-10\n",
            "b1 : 1.0278634789991472e-09\n",
            "W2 : 6.937796280880038e-08\n",
            "b2 : 1.396461986338804e-07\n"
          ]
        }
      ]
    },
    {
      "cell_type": "markdown",
      "source": [
        "### 5.7.4 오차역전파법을 사용한 학습 구현하기"
      ],
      "metadata": {
        "id": "Q50VVCwD5kJz"
      }
    },
    {
      "cell_type": "code",
      "source": [
        "# 구글 드라이브 마운트하기\n",
        "from google.colab import drive\n",
        "drive.mount('/content/drive')\n",
        "\n",
        "# .py 파일이 위치한 경로로 이동\n",
        "%cd /content/drive/MyDrive/Colab Notebooks/밑바닥부터 시작하는 딥러닝/dataset\n",
        "\n",
        "import numpy as np\n",
        "from mnist import load_mnist\n",
        "from two_layer_net import TwoLayerNet\n",
        "\n",
        "# 데이터 불러오기\n",
        "(x_train, t_train), (x_test, t_test) = load_mnist(normalize= True, one_hot_label= True)\n",
        "\n",
        "# Net\n",
        "network = TwoLayerNet(input_size= 784, hidden_size= 50, output_size= 10)\n",
        "\n",
        "iters_num = 10000\n",
        "train_size = x_train.shape[0]\n",
        "batch_size = 100\n",
        "learning_rate = 0.1\n",
        "\n",
        "train_loss_list = []\n",
        "train_acc_list = []\n",
        "test_acc_list = []\n",
        "\n",
        "iter_per_epoch = max(train_size / batch_size, 1)\n",
        "\n",
        "for i in range(iters_num) :\n",
        "    batch_mask = np.random.choice(train_size, batch_size)\n",
        "    x_batch = x_train[batch_mask]\n",
        "    t_batch = t_train[batch_mask]\n",
        "\n",
        "    # 오차역전파법으로 기울기 도출\n",
        "    grad = network.gradient(x_batch, t_batch)\n",
        "\n",
        "    # 갱신\n",
        "    for key in ('W1','b1','W2','b2') :\n",
        "        network.params[key] -= learning_rate * grad[key]\n",
        "\n",
        "    loss = network.loss(x_batch, t_batch)\n",
        "    train_loss_list.append(loss)\n",
        "\n",
        "    if i % iter_per_epoch == 0 :\n",
        "        train_acc = network.accuracy(x_train, t_train)\n",
        "        test_acc = network.accuracy(x_test, t_test)\n",
        "\n",
        "        train_acc_list.append(train_acc)\n",
        "        test_acc_list.append(test_acc)\n",
        "\n",
        "        print(train_acc, test_acc)"
      ],
      "metadata": {
        "id": "3xOUP6b44JQa",
        "colab": {
          "base_uri": "https://localhost:8080/"
        },
        "outputId": "3f1d7a44-e75f-426a-9126-60efe36cfbc2"
      },
      "execution_count": 24,
      "outputs": [
        {
          "output_type": "stream",
          "name": "stdout",
          "text": [
            "Drive already mounted at /content/drive; to attempt to forcibly remount, call drive.mount(\"/content/drive\", force_remount=True).\n",
            "/content/drive/MyDrive/Colab Notebooks/밑바닥부터 시작하는 딥러닝/dataset\n",
            "0.09963333333333334 0.0991\n",
            "0.7816833333333333 0.7893\n",
            "0.8778833333333333 0.8809\n",
            "0.8989166666666667 0.9006\n",
            "0.9083166666666667 0.9118\n",
            "0.9148166666666666 0.9162\n",
            "0.91915 0.9211\n",
            "0.9236166666666666 0.9247\n",
            "0.928 0.9283\n",
            "0.9311833333333334 0.9322\n",
            "0.9342666666666667 0.9339\n",
            "0.9371333333333334 0.9374\n",
            "0.93985 0.9384\n",
            "0.9410166666666666 0.9402\n",
            "0.9437666666666666 0.942\n",
            "0.9453 0.9441\n",
            "0.9471666666666667 0.9459\n"
          ]
        }
      ]
    }
  ]
}