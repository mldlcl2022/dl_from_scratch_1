{
  "cells": [
    {
      "cell_type": "markdown",
      "metadata": {
        "id": "view-in-github",
        "colab_type": "text"
      },
      "source": [
        "<a href=\"https://colab.research.google.com/github/mldlcl2022/dl_from_scratch_1/blob/main/Ch_1_%ED%8C%8C%EC%9D%B4%EC%8D%AC(Python).ipynb\" target=\"_parent\"><img src=\"https://colab.research.google.com/assets/colab-badge.svg\" alt=\"Open In Colab\"/></a>"
      ]
    },
    {
      "cell_type": "markdown",
      "metadata": {
        "id": "_grgkysGvdjv"
      },
      "source": [
        "* 책의 모든 코드는 구글 코랩(Google Colab)을 활용하여 실습"
      ]
    },
    {
      "cell_type": "markdown",
      "metadata": {
        "id": "1tSn0-ZHt57R"
      },
      "source": [
        "# Chapter 1. 헬로 파이썬\n",
        "20240109"
      ]
    },
    {
      "cell_type": "markdown",
      "metadata": {
        "id": "TH4JWz15u2SI"
      },
      "source": [
        "## 1.3 파이썬 인터프리터(p.27)"
      ]
    },
    {
      "cell_type": "markdown",
      "metadata": {
        "id": "yzEPvIXgvXUY"
      },
      "source": [
        "### 1.3.1 산술 연산"
      ]
    },
    {
      "cell_type": "code",
      "execution_count": null,
      "metadata": {
        "colab": {
          "base_uri": "https://localhost:8080/"
        },
        "id": "_ELyU3ycv58Z",
        "outputId": "e8b66f99-8da2-46c4-fabf-a4bf8620c378"
      },
      "outputs": [
        {
          "output_type": "execute_result",
          "data": {
            "text/plain": [
              "-1"
            ]
          },
          "metadata": {},
          "execution_count": 127
        }
      ],
      "source": [
        "1-2"
      ]
    },
    {
      "cell_type": "code",
      "execution_count": null,
      "metadata": {
        "colab": {
          "base_uri": "https://localhost:8080/"
        },
        "id": "NoeDDUfvv65_",
        "outputId": "63cd0486-9fe6-4d69-a7c4-9ef80d58feef"
      },
      "outputs": [
        {
          "output_type": "execute_result",
          "data": {
            "text/plain": [
              "20"
            ]
          },
          "metadata": {},
          "execution_count": 128
        }
      ],
      "source": [
        "4*5"
      ]
    },
    {
      "cell_type": "code",
      "execution_count": null,
      "metadata": {
        "colab": {
          "base_uri": "https://localhost:8080/"
        },
        "id": "5toFNrXMv8A_",
        "outputId": "01786808-2a9b-445b-a6b3-834576beb77f"
      },
      "outputs": [
        {
          "output_type": "execute_result",
          "data": {
            "text/plain": [
              "1.4"
            ]
          },
          "metadata": {},
          "execution_count": 129
        }
      ],
      "source": [
        "7/5"
      ]
    },
    {
      "cell_type": "code",
      "execution_count": null,
      "metadata": {
        "colab": {
          "base_uri": "https://localhost:8080/"
        },
        "id": "d3FlmKrMv8tv",
        "outputId": "d02f4ba7-2cbc-4199-9418-12613821d2e2"
      },
      "outputs": [
        {
          "output_type": "execute_result",
          "data": {
            "text/plain": [
              "9"
            ]
          },
          "metadata": {},
          "execution_count": 130
        }
      ],
      "source": [
        "3**2"
      ]
    },
    {
      "cell_type": "markdown",
      "metadata": {
        "id": "OhiuRuIcv9kf"
      },
      "source": [
        "### 1.3.2 자료형"
      ]
    },
    {
      "cell_type": "code",
      "execution_count": null,
      "metadata": {
        "colab": {
          "base_uri": "https://localhost:8080/"
        },
        "id": "hZS9I4mwv_6f",
        "outputId": "a6f12c27-66d4-47fa-f8e0-fa4a5f57fe6c"
      },
      "outputs": [
        {
          "output_type": "execute_result",
          "data": {
            "text/plain": [
              "int"
            ]
          },
          "metadata": {},
          "execution_count": 131
        }
      ],
      "source": [
        "type(10)"
      ]
    },
    {
      "cell_type": "code",
      "execution_count": null,
      "metadata": {
        "colab": {
          "base_uri": "https://localhost:8080/"
        },
        "id": "52WycxCFwC0P",
        "outputId": "86235524-e05a-4c34-d0e9-471736d8ad4f"
      },
      "outputs": [
        {
          "output_type": "execute_result",
          "data": {
            "text/plain": [
              "float"
            ]
          },
          "metadata": {},
          "execution_count": 132
        }
      ],
      "source": [
        "type(2.718)"
      ]
    },
    {
      "cell_type": "code",
      "execution_count": null,
      "metadata": {
        "colab": {
          "base_uri": "https://localhost:8080/"
        },
        "id": "5p1ne6TAwFyf",
        "outputId": "0f2ca081-15d3-4df8-d529-d186455f3c17"
      },
      "outputs": [
        {
          "output_type": "execute_result",
          "data": {
            "text/plain": [
              "str"
            ]
          },
          "metadata": {},
          "execution_count": 133
        }
      ],
      "source": [
        "type('hello')"
      ]
    },
    {
      "cell_type": "markdown",
      "metadata": {
        "id": "fc3P6Cz8wHu_"
      },
      "source": [
        "### 1.3.3 변수"
      ]
    },
    {
      "cell_type": "code",
      "execution_count": null,
      "metadata": {
        "colab": {
          "base_uri": "https://localhost:8080/"
        },
        "id": "uCne-t64wKnP",
        "outputId": "43625980-9565-4bc2-8937-b0d2e73463c9"
      },
      "outputs": [
        {
          "output_type": "stream",
          "name": "stdout",
          "text": [
            "10\n"
          ]
        }
      ],
      "source": [
        "x = 10   # 변수에 값 대입\n",
        "print(x) # x값 출력"
      ]
    },
    {
      "cell_type": "code",
      "execution_count": null,
      "metadata": {
        "colab": {
          "base_uri": "https://localhost:8080/"
        },
        "id": "scePMNjrwMQX",
        "outputId": "7cfea8d7-898d-4e46-d829-d188a2f38b5d"
      },
      "outputs": [
        {
          "output_type": "stream",
          "name": "stdout",
          "text": [
            "100\n"
          ]
        }
      ],
      "source": [
        "x = 100\n",
        "print(x)"
      ]
    },
    {
      "cell_type": "code",
      "execution_count": null,
      "metadata": {
        "colab": {
          "base_uri": "https://localhost:8080/"
        },
        "id": "WguEE9UFwN1f",
        "outputId": "4ccf1d89-0b76-499c-d3fa-09dace4c510d"
      },
      "outputs": [
        {
          "output_type": "stream",
          "name": "stdout",
          "text": [
            "314.0\n"
          ]
        }
      ],
      "source": [
        "x = 100\n",
        "y = 3.14\n",
        "print(x*y)"
      ]
    },
    {
      "cell_type": "code",
      "execution_count": null,
      "metadata": {
        "colab": {
          "base_uri": "https://localhost:8080/"
        },
        "id": "rMC6cJ1FwR-Q",
        "outputId": "b1997be5-6855-480b-db51-21377ef8b889"
      },
      "outputs": [
        {
          "output_type": "stream",
          "name": "stdout",
          "text": [
            "<class 'float'>\n"
          ]
        }
      ],
      "source": [
        "print(type(x*y))"
      ]
    },
    {
      "cell_type": "markdown",
      "metadata": {
        "id": "H2L4CDaiwWyo"
      },
      "source": [
        "### 1.3.4 리스트"
      ]
    },
    {
      "cell_type": "code",
      "execution_count": null,
      "metadata": {
        "colab": {
          "base_uri": "https://localhost:8080/"
        },
        "id": "n8GgcXEJwZOh",
        "outputId": "4cf57267-7a75-4b21-ebb6-ee3b37a7c550"
      },
      "outputs": [
        {
          "output_type": "stream",
          "name": "stdout",
          "text": [
            "[1, 2, 3, 4, 5]\n"
          ]
        }
      ],
      "source": [
        "a = [1,2,3,4,5] # 리스트 생성\n",
        "print(a)        # 리스트 내용 출력"
      ]
    },
    {
      "cell_type": "code",
      "execution_count": null,
      "metadata": {
        "colab": {
          "base_uri": "https://localhost:8080/"
        },
        "id": "pwzGrWBXw9_5",
        "outputId": "f6a67e1b-b0a4-4096-a1b7-e8128ca73945"
      },
      "outputs": [
        {
          "output_type": "execute_result",
          "data": {
            "text/plain": [
              "5"
            ]
          },
          "metadata": {},
          "execution_count": 139
        }
      ],
      "source": [
        "len(a) # 리스트 길이 출력"
      ]
    },
    {
      "cell_type": "code",
      "execution_count": null,
      "metadata": {
        "colab": {
          "base_uri": "https://localhost:8080/"
        },
        "id": "sGc-Qg1Qw-55",
        "outputId": "a6f31b92-9db2-4a1d-f7ab-8e05854ade19"
      },
      "outputs": [
        {
          "output_type": "execute_result",
          "data": {
            "text/plain": [
              "1"
            ]
          },
          "metadata": {},
          "execution_count": 140
        }
      ],
      "source": [
        "a[0] # 첫번째 원소"
      ]
    },
    {
      "cell_type": "code",
      "execution_count": null,
      "metadata": {
        "colab": {
          "base_uri": "https://localhost:8080/"
        },
        "id": "-Vg0Ntp8w_pp",
        "outputId": "be56256d-ae6b-4d90-c81b-88519bf67df2"
      },
      "outputs": [
        {
          "output_type": "execute_result",
          "data": {
            "text/plain": [
              "5"
            ]
          },
          "metadata": {},
          "execution_count": 141
        }
      ],
      "source": [
        "a[4] # 다섯번째 원소"
      ]
    },
    {
      "cell_type": "code",
      "execution_count": null,
      "metadata": {
        "colab": {
          "base_uri": "https://localhost:8080/"
        },
        "id": "3RqWPgaZxAVB",
        "outputId": "f1d994be-8c7d-4b53-d756-17921a7b674a"
      },
      "outputs": [
        {
          "output_type": "stream",
          "name": "stdout",
          "text": [
            "[1, 2, 3, 4, 99]\n"
          ]
        }
      ],
      "source": [
        "a[4] = 99 # 값 변경\n",
        "print(a)  # 리스트 내용 출력"
      ]
    },
    {
      "cell_type": "code",
      "execution_count": null,
      "metadata": {
        "colab": {
          "base_uri": "https://localhost:8080/"
        },
        "id": "k2uN6CzVxCQh",
        "outputId": "6f092f40-c289-423b-d821-2b161dbee6de"
      },
      "outputs": [
        {
          "output_type": "execute_result",
          "data": {
            "text/plain": [
              "[1, 2]"
            ]
          },
          "metadata": {},
          "execution_count": 143
        }
      ],
      "source": [
        "a[0:2] # 인덱스 0부터 2전까지 출력(인덱스가 2인 값은 포함하지 않음)"
      ]
    },
    {
      "cell_type": "code",
      "execution_count": null,
      "metadata": {
        "colab": {
          "base_uri": "https://localhost:8080/"
        },
        "id": "3qYTSrVzxquC",
        "outputId": "3f94e6c9-7a64-4509-ab31-7a9b5662b58e"
      },
      "outputs": [
        {
          "output_type": "execute_result",
          "data": {
            "text/plain": [
              "[2, 3, 4, 99]"
            ]
          },
          "metadata": {},
          "execution_count": 144
        }
      ],
      "source": [
        "a[1:] # 인덱스 1부터 끝까지 출력"
      ]
    },
    {
      "cell_type": "code",
      "execution_count": null,
      "metadata": {
        "colab": {
          "base_uri": "https://localhost:8080/"
        },
        "id": "bHolIaE5x467",
        "outputId": "d276fa4d-41de-4995-b493-42532169e06e"
      },
      "outputs": [
        {
          "output_type": "execute_result",
          "data": {
            "text/plain": [
              "[1, 2, 3]"
            ]
          },
          "metadata": {},
          "execution_count": 145
        }
      ],
      "source": [
        "a[:3] # 처음부터 인덱스 3전까지 출력(인덱스가 3인 값은 포함하지 않음)"
      ]
    },
    {
      "cell_type": "code",
      "execution_count": null,
      "metadata": {
        "colab": {
          "base_uri": "https://localhost:8080/"
        },
        "id": "P4Q8nd6vyG7K",
        "outputId": "6b0b484a-cee5-4850-f016-317fc734b79f"
      },
      "outputs": [
        {
          "output_type": "execute_result",
          "data": {
            "text/plain": [
              "[1, 2, 3, 4]"
            ]
          },
          "metadata": {},
          "execution_count": 146
        }
      ],
      "source": [
        "a[:-1] # 처음부터 마지막 원소 1개 앞까지 출력"
      ]
    },
    {
      "cell_type": "code",
      "execution_count": null,
      "metadata": {
        "colab": {
          "base_uri": "https://localhost:8080/"
        },
        "id": "92YbeJJmyPMM",
        "outputId": "0b096b8f-e919-4b79-f4f7-caf61c30bb88"
      },
      "outputs": [
        {
          "output_type": "execute_result",
          "data": {
            "text/plain": [
              "[1, 2, 3]"
            ]
          },
          "metadata": {},
          "execution_count": 147
        }
      ],
      "source": [
        "a[:-2] # 처음부터 마지막 원소 2개 앞까지 출력"
      ]
    },
    {
      "cell_type": "markdown",
      "metadata": {
        "id": "EUHaod7iySv3"
      },
      "source": [
        "### 1.3.5 딕셔너리"
      ]
    },
    {
      "cell_type": "code",
      "execution_count": null,
      "metadata": {
        "colab": {
          "base_uri": "https://localhost:8080/"
        },
        "id": "5M4xXsahyVK0",
        "outputId": "0d07f703-2b0c-4a49-a88c-df573165f46f"
      },
      "outputs": [
        {
          "output_type": "execute_result",
          "data": {
            "text/plain": [
              "168"
            ]
          },
          "metadata": {},
          "execution_count": 148
        }
      ],
      "source": [
        "me = {'height':168} # 딕셔너리 생성(딕셔너리의 괄호 : {})\n",
        "me['height']        # height 원소의 값 출력"
      ]
    },
    {
      "cell_type": "code",
      "execution_count": null,
      "metadata": {
        "colab": {
          "base_uri": "https://localhost:8080/"
        },
        "id": "GSuJH2v0yt7y",
        "outputId": "e48e3929-292d-4af6-d103-558b6e21b0c7"
      },
      "outputs": [
        {
          "output_type": "stream",
          "name": "stdout",
          "text": [
            "{'height': 168, 'weight': 60}\n"
          ]
        }
      ],
      "source": [
        "me['weight'] = 60 # 딕셔너리 새 원소 추가\n",
        "print(me)         # 딕셔너리 출력"
      ]
    },
    {
      "cell_type": "markdown",
      "metadata": {
        "id": "0YAckAF_y17k"
      },
      "source": [
        "### 1.3.6 bool"
      ]
    },
    {
      "cell_type": "code",
      "execution_count": null,
      "metadata": {
        "colab": {
          "base_uri": "https://localhost:8080/"
        },
        "id": "xJzyBevUy9Qt",
        "outputId": "9e4ddb7a-7e0e-4eea-d911-6c94f5357ad7"
      },
      "outputs": [
        {
          "output_type": "execute_result",
          "data": {
            "text/plain": [
              "bool"
            ]
          },
          "metadata": {},
          "execution_count": 150
        }
      ],
      "source": [
        "hungry = True  # 배고프다\n",
        "sleepy = False # 졸리지 않다\n",
        "type(hungry)"
      ]
    },
    {
      "cell_type": "code",
      "execution_count": null,
      "metadata": {
        "colab": {
          "base_uri": "https://localhost:8080/"
        },
        "id": "X2LrHItzzV7f",
        "outputId": "698814b9-a8da-4f1f-8b12-e564f0cc4ffd"
      },
      "outputs": [
        {
          "output_type": "execute_result",
          "data": {
            "text/plain": [
              "False"
            ]
          },
          "metadata": {},
          "execution_count": 151
        }
      ],
      "source": [
        "not hungry # 배고프지 않다"
      ]
    },
    {
      "cell_type": "markdown",
      "metadata": {
        "id": "-ksqbSWqzfiM"
      },
      "source": [
        "### 1.3.7 if 문(조건문)"
      ]
    },
    {
      "cell_type": "code",
      "execution_count": null,
      "metadata": {
        "colab": {
          "base_uri": "https://localhost:8080/"
        },
        "id": "Wel4nnL1zlj0",
        "outputId": "8ab60880-6dbb-4832-932f-60e22f4cea94"
      },
      "outputs": [
        {
          "output_type": "stream",
          "name": "stdout",
          "text": [
            "I'm hungry\n"
          ]
        }
      ],
      "source": [
        "hungry = True\n",
        "if hungry : print('I\\'m hungry')"
      ]
    },
    {
      "cell_type": "code",
      "execution_count": null,
      "metadata": {
        "colab": {
          "base_uri": "https://localhost:8080/"
        },
        "id": "W03PW57H1GeH",
        "outputId": "3c631dd6-f0a5-46aa-8f10-b95dcb1d7e2a"
      },
      "outputs": [
        {
          "output_type": "stream",
          "name": "stdout",
          "text": [
            "I'm not hungry\n",
            "I'm sleepy\n"
          ]
        }
      ],
      "source": [
        "hungry = False\n",
        "if hungry :\n",
        "  print('I\\'m hungry')\n",
        "else :\n",
        "  print('I\\'m not hungry')\n",
        "  print('I\\'m sleepy')"
      ]
    },
    {
      "cell_type": "markdown",
      "metadata": {
        "id": "K_iwK9FS1ZbW"
      },
      "source": [
        "### 1.3.8 for 문(반복문)"
      ]
    },
    {
      "cell_type": "code",
      "execution_count": null,
      "metadata": {
        "colab": {
          "base_uri": "https://localhost:8080/"
        },
        "id": "FBORFIWA1c_-",
        "outputId": "276b72a9-1089-43c6-97bf-d5d23bce2db5"
      },
      "outputs": [
        {
          "output_type": "stream",
          "name": "stdout",
          "text": [
            "1\n",
            "2\n",
            "3\n"
          ]
        }
      ],
      "source": [
        "for i in [1,2,3] :\n",
        "  print(i)"
      ]
    },
    {
      "cell_type": "markdown",
      "metadata": {
        "id": "IL67nsi81ho-"
      },
      "source": [
        "### 1.3.9 함수"
      ]
    },
    {
      "cell_type": "code",
      "execution_count": null,
      "metadata": {
        "colab": {
          "base_uri": "https://localhost:8080/"
        },
        "id": "QOB3B1Yj1iy2",
        "outputId": "f301cc97-b78a-48b4-bfac-751aed881935"
      },
      "outputs": [
        {
          "output_type": "stream",
          "name": "stdout",
          "text": [
            "Hello World!\n"
          ]
        }
      ],
      "source": [
        "def hello() :\n",
        "  print('Hello World!')\n",
        "\n",
        "hello()"
      ]
    },
    {
      "cell_type": "code",
      "execution_count": null,
      "metadata": {
        "colab": {
          "base_uri": "https://localhost:8080/"
        },
        "id": "14x95kRF2Et2",
        "outputId": "d92f09f2-4e9e-477e-becd-d8f85a332ac0"
      },
      "outputs": [
        {
          "output_type": "stream",
          "name": "stdout",
          "text": [
            "Hello cat!\n"
          ]
        }
      ],
      "source": [
        "def hello(object) :\n",
        "  print('Hello '+object+'!')\n",
        "\n",
        "hello('cat')"
      ]
    },
    {
      "cell_type": "markdown",
      "metadata": {
        "id": "ZQy3DX972Ugs"
      },
      "source": [
        "## 1.4 파이썬 스크립트 파일(p.34)"
      ]
    },
    {
      "cell_type": "markdown",
      "metadata": {
        "id": "IZO8RVLP2YEP"
      },
      "source": [
        "### 1.4.2 클래스\n",
        "\n",
        "#### ※ Class 구조\n",
        "class 클래스 이름 :  \n",
        "&emsp;def __init__(self, 인수, ...) :   # 생성자  \n",
        "&emsp;&emsp;...  \n",
        "&emsp;def 메서드 이름 1(self, 인수, ...) # 메서드 1  \n",
        "&emsp;&emsp;...  \n",
        "&emsp;def 메서드 이름 2(self, 인수, ...) # 메서드 2  \n",
        "&emsp;&emsp;..."
      ]
    },
    {
      "cell_type": "code",
      "execution_count": null,
      "metadata": {
        "colab": {
          "base_uri": "https://localhost:8080/"
        },
        "id": "9sJITU3k2aOX",
        "outputId": "8264aaae-08b8-4c6f-ebce-914529530471"
      },
      "outputs": [
        {
          "output_type": "stream",
          "name": "stdout",
          "text": [
            "Initialized!\n",
            "Hello David!\n",
            "Good-bye David!\n"
          ]
        }
      ],
      "source": [
        "class Man :\n",
        "  def __init__(self, name) :\n",
        "    self.name = name\n",
        "    print('Initialized!')\n",
        "\n",
        "  def hello(self) :\n",
        "    print('Hello '+self.name+'!')\n",
        "\n",
        "  def goodbye(self) :\n",
        "    print('Good-bye '+self.name+'!')\n",
        "\n",
        "m = Man('David')\n",
        "m.hello()\n",
        "m.goodbye()"
      ]
    },
    {
      "cell_type": "markdown",
      "metadata": {
        "id": "jvzDeXKK4v9S"
      },
      "source": [
        "## 1.5 넘파이(p.36)"
      ]
    },
    {
      "cell_type": "markdown",
      "metadata": {
        "id": "boPs7ad052Rk"
      },
      "source": [
        "### 1.5.1 넘파이 가져오기"
      ]
    },
    {
      "cell_type": "code",
      "execution_count": null,
      "metadata": {
        "id": "hohHcz_l5w9k"
      },
      "outputs": [],
      "source": [
        "import numpy as np"
      ]
    },
    {
      "cell_type": "markdown",
      "metadata": {
        "id": "FtlMKrNZ51Hr"
      },
      "source": [
        "### 1.5.2 넘파이 배열 생성하기"
      ]
    },
    {
      "cell_type": "code",
      "execution_count": null,
      "metadata": {
        "colab": {
          "base_uri": "https://localhost:8080/"
        },
        "id": "SCq_1HI056AD",
        "outputId": "9036c4e9-f1aa-4229-8c96-a155b1f3f2be"
      },
      "outputs": [
        {
          "output_type": "stream",
          "name": "stdout",
          "text": [
            "[1. 2. 3.]\n"
          ]
        }
      ],
      "source": [
        "x = np.array([1.0,2.0,3.0])\n",
        "print(x)"
      ]
    },
    {
      "cell_type": "code",
      "execution_count": null,
      "metadata": {
        "colab": {
          "base_uri": "https://localhost:8080/"
        },
        "id": "Lyo2MOcO5_Xs",
        "outputId": "c151c97b-81df-4ad8-9946-fe549126f925"
      },
      "outputs": [
        {
          "output_type": "execute_result",
          "data": {
            "text/plain": [
              "numpy.ndarray"
            ]
          },
          "metadata": {},
          "execution_count": 160
        }
      ],
      "source": [
        "type(x)"
      ]
    },
    {
      "cell_type": "markdown",
      "metadata": {
        "id": "0mFTLWNF6AVE"
      },
      "source": [
        "### 1.5.3 넘파이의 산술 연산"
      ]
    },
    {
      "cell_type": "code",
      "execution_count": null,
      "metadata": {
        "colab": {
          "base_uri": "https://localhost:8080/"
        },
        "id": "bcbdyb4c6C6s",
        "outputId": "045ea633-2d4f-484a-9032-01c72a5ebf4c"
      },
      "outputs": [
        {
          "output_type": "execute_result",
          "data": {
            "text/plain": [
              "array([3., 6., 9.])"
            ]
          },
          "metadata": {},
          "execution_count": 161
        }
      ],
      "source": [
        "x = np.array([1.0,2.0,3.0])\n",
        "y = np.array([2.0,4.0,6.0])\n",
        "x+y                       # x와 y의 원소별 덧셈"
      ]
    },
    {
      "cell_type": "code",
      "execution_count": null,
      "metadata": {
        "colab": {
          "base_uri": "https://localhost:8080/"
        },
        "id": "FHYox_KL71N-",
        "outputId": "a3ce0ae8-822b-4e37-d4da-bfe113215d77"
      },
      "outputs": [
        {
          "output_type": "execute_result",
          "data": {
            "text/plain": [
              "array([-1., -2., -3.])"
            ]
          },
          "metadata": {},
          "execution_count": 162
        }
      ],
      "source": [
        "x-y # x와 y의 원소별 뺄셈"
      ]
    },
    {
      "cell_type": "code",
      "execution_count": null,
      "metadata": {
        "colab": {
          "base_uri": "https://localhost:8080/"
        },
        "id": "xEc9tsCT8CKo",
        "outputId": "3e73791f-c4a9-43e0-9a8e-b47a6cbd871f"
      },
      "outputs": [
        {
          "output_type": "execute_result",
          "data": {
            "text/plain": [
              "array([ 2.,  8., 18.])"
            ]
          },
          "metadata": {},
          "execution_count": 163
        }
      ],
      "source": [
        "x*y # x와 y의 원소별 곱셈"
      ]
    },
    {
      "cell_type": "code",
      "execution_count": null,
      "metadata": {
        "colab": {
          "base_uri": "https://localhost:8080/"
        },
        "id": "XN9voj9R8EuI",
        "outputId": "c45a162a-1ebe-4059-fca2-617b267fc04d"
      },
      "outputs": [
        {
          "output_type": "execute_result",
          "data": {
            "text/plain": [
              "array([0.5, 0.5, 0.5])"
            ]
          },
          "metadata": {},
          "execution_count": 164
        }
      ],
      "source": [
        "x/y # x와 y의 원소별 나눗셈"
      ]
    },
    {
      "cell_type": "code",
      "execution_count": null,
      "metadata": {
        "colab": {
          "base_uri": "https://localhost:8080/"
        },
        "id": "DqYMn1AU8HeY",
        "outputId": "ac3fc382-eb59-4bec-ce91-8ba6e0ab1e35"
      },
      "outputs": [
        {
          "output_type": "execute_result",
          "data": {
            "text/plain": [
              "array([0.5, 1. , 1.5])"
            ]
          },
          "metadata": {},
          "execution_count": 165
        }
      ],
      "source": [
        "x = np.array([1.0,2.0,3.0])\n",
        "x/2.0"
      ]
    },
    {
      "cell_type": "markdown",
      "metadata": {
        "id": "CqyNyRWv8RrH"
      },
      "source": [
        "### 1.5.4 넘파이의 N차원 배열\n",
        "\n",
        "#### ※ 차원과 관련된 용어\n",
        "1차원 배열 : 벡터(Vector)  \n",
        "2차원 배열 : 행렬(Matrix)  \n",
        "3차원 배열 : 텐서(Tensor)"
      ]
    },
    {
      "cell_type": "code",
      "execution_count": null,
      "metadata": {
        "colab": {
          "base_uri": "https://localhost:8080/"
        },
        "id": "JTTP-53P8UPI",
        "outputId": "33b23992-c62a-4ccf-ad88-79373f145e98"
      },
      "outputs": [
        {
          "output_type": "stream",
          "name": "stdout",
          "text": [
            "[[1 2]\n",
            " [3 4]]\n"
          ]
        }
      ],
      "source": [
        "A = np.array([[1,2],[3,4]])\n",
        "print(A)"
      ]
    },
    {
      "cell_type": "code",
      "execution_count": null,
      "metadata": {
        "colab": {
          "base_uri": "https://localhost:8080/"
        },
        "id": "gAXm7c20-S41",
        "outputId": "7c463adb-9ed3-46f7-c10d-5a00fe77d265"
      },
      "outputs": [
        {
          "output_type": "execute_result",
          "data": {
            "text/plain": [
              "(2, 2)"
            ]
          },
          "metadata": {},
          "execution_count": 167
        }
      ],
      "source": [
        "A.shape"
      ]
    },
    {
      "cell_type": "code",
      "execution_count": null,
      "metadata": {
        "colab": {
          "base_uri": "https://localhost:8080/"
        },
        "id": "Z3NNWCpz-TYx",
        "outputId": "ec94ee9f-0a12-4166-d3a0-e4d980058a95"
      },
      "outputs": [
        {
          "output_type": "execute_result",
          "data": {
            "text/plain": [
              "dtype('int64')"
            ]
          },
          "metadata": {},
          "execution_count": 168
        }
      ],
      "source": [
        "A.dtype"
      ]
    },
    {
      "cell_type": "code",
      "execution_count": null,
      "metadata": {
        "colab": {
          "base_uri": "https://localhost:8080/"
        },
        "id": "1yGaGqkB-Ugp",
        "outputId": "698f7ff6-0931-46e8-c034-9f5ce3352707"
      },
      "outputs": [
        {
          "output_type": "execute_result",
          "data": {
            "text/plain": [
              "array([[ 4,  2],\n",
              "       [ 3, 10]])"
            ]
          },
          "metadata": {},
          "execution_count": 169
        }
      ],
      "source": [
        "B = np.array(([3,0],[0,6]))\n",
        "\n",
        "A+B"
      ]
    },
    {
      "cell_type": "code",
      "execution_count": null,
      "metadata": {
        "colab": {
          "base_uri": "https://localhost:8080/"
        },
        "id": "rku2vLWU-eRR",
        "outputId": "1e17dd2b-f304-4424-a2a3-e3d9da8400f1"
      },
      "outputs": [
        {
          "output_type": "execute_result",
          "data": {
            "text/plain": [
              "array([[ 3,  0],\n",
              "       [ 0, 24]])"
            ]
          },
          "metadata": {},
          "execution_count": 170
        }
      ],
      "source": [
        "A*B"
      ]
    },
    {
      "cell_type": "code",
      "execution_count": null,
      "metadata": {
        "colab": {
          "base_uri": "https://localhost:8080/"
        },
        "id": "fZTx5cLk-fix",
        "outputId": "868683e5-7753-438c-ff25-e62a4ab68944"
      },
      "outputs": [
        {
          "output_type": "stream",
          "name": "stdout",
          "text": [
            "[[1 2]\n",
            " [3 4]]\n"
          ]
        }
      ],
      "source": [
        "print(A)"
      ]
    },
    {
      "cell_type": "code",
      "execution_count": null,
      "metadata": {
        "colab": {
          "base_uri": "https://localhost:8080/"
        },
        "id": "HOAwBQgi-hb5",
        "outputId": "c9157bea-8455-4872-d7d8-63c141a1b737"
      },
      "outputs": [
        {
          "output_type": "execute_result",
          "data": {
            "text/plain": [
              "array([[10, 20],\n",
              "       [30, 40]])"
            ]
          },
          "metadata": {},
          "execution_count": 172
        }
      ],
      "source": [
        "A*10"
      ]
    },
    {
      "cell_type": "markdown",
      "metadata": {
        "id": "PpUUelo5-ip5"
      },
      "source": [
        "### 1.5.5 브로드캐스트\n",
        "넘파이에서 형상이 다른 배열끼리도 계산 가능"
      ]
    },
    {
      "cell_type": "code",
      "execution_count": null,
      "metadata": {
        "colab": {
          "base_uri": "https://localhost:8080/"
        },
        "id": "ivLsUIX2_KGy",
        "outputId": "a9aecb10-b1e1-40cb-91ee-5a1f2efee160"
      },
      "outputs": [
        {
          "output_type": "execute_result",
          "data": {
            "text/plain": [
              "array([[10, 40],\n",
              "       [30, 80]])"
            ]
          },
          "metadata": {},
          "execution_count": 173
        }
      ],
      "source": [
        "A = np.array([[1,2],[3,4]])\n",
        "B = np.array([10,20])\n",
        "A*B"
      ]
    },
    {
      "cell_type": "markdown",
      "metadata": {
        "id": "y0bf4sAPCj3m"
      },
      "source": [
        "### 1.5.6 원소 접근"
      ]
    },
    {
      "cell_type": "code",
      "execution_count": null,
      "metadata": {
        "colab": {
          "base_uri": "https://localhost:8080/"
        },
        "id": "1lRMVeTBCpfP",
        "outputId": "1a44ad77-2d68-4f1b-cde4-71af623ca308"
      },
      "outputs": [
        {
          "output_type": "stream",
          "name": "stdout",
          "text": [
            "[[51 55]\n",
            " [14 19]\n",
            " [ 0  4]]\n"
          ]
        }
      ],
      "source": [
        "X = np.array([[51,55],[14,19],[0,4]])\n",
        "print(X)"
      ]
    },
    {
      "cell_type": "code",
      "execution_count": null,
      "metadata": {
        "colab": {
          "base_uri": "https://localhost:8080/"
        },
        "id": "s2XHz3nhDhgP",
        "outputId": "f73b9e60-6cd0-48cd-b39e-79c22b5da5d9"
      },
      "outputs": [
        {
          "output_type": "execute_result",
          "data": {
            "text/plain": [
              "array([51, 55])"
            ]
          },
          "metadata": {},
          "execution_count": 175
        }
      ],
      "source": [
        "X[0] # 첫번째 행"
      ]
    },
    {
      "cell_type": "code",
      "execution_count": null,
      "metadata": {
        "colab": {
          "base_uri": "https://localhost:8080/"
        },
        "id": "N9ncfx4eDizX",
        "outputId": "ec2b4388-26f8-45b9-db66-608f60a84995"
      },
      "outputs": [
        {
          "output_type": "execute_result",
          "data": {
            "text/plain": [
              "55"
            ]
          },
          "metadata": {},
          "execution_count": 176
        }
      ],
      "source": [
        "X[0][1] # (0,1) 위치의 원소"
      ]
    },
    {
      "cell_type": "code",
      "execution_count": null,
      "metadata": {
        "colab": {
          "base_uri": "https://localhost:8080/"
        },
        "id": "3rnxPJ5CDoOZ",
        "outputId": "cdb49553-fcd7-4dfa-dd76-a22f24b931fa"
      },
      "outputs": [
        {
          "output_type": "stream",
          "name": "stdout",
          "text": [
            "[51 55]\n",
            "[14 19]\n",
            "[0 4]\n"
          ]
        }
      ],
      "source": [
        "for row in X : print(row) # 각각의 원소"
      ]
    },
    {
      "cell_type": "code",
      "execution_count": null,
      "metadata": {
        "colab": {
          "base_uri": "https://localhost:8080/"
        },
        "id": "8gfHxw3WDxpR",
        "outputId": "65b5ffa8-ab2b-47d3-f748-7dcf2a5ee159"
      },
      "outputs": [
        {
          "output_type": "stream",
          "name": "stdout",
          "text": [
            "[51 55 14 19  0  4]\n"
          ]
        }
      ],
      "source": [
        "X = X.flatten() # 배열 X를 1차원 배열로 변환(평탄화)\n",
        "print(X)"
      ]
    },
    {
      "cell_type": "code",
      "execution_count": null,
      "metadata": {
        "colab": {
          "base_uri": "https://localhost:8080/"
        },
        "id": "SPWxhcvyE-XR",
        "outputId": "936851a4-a98c-4d64-eb17-c092f01c1092"
      },
      "outputs": [
        {
          "output_type": "execute_result",
          "data": {
            "text/plain": [
              "array([51, 14,  0])"
            ]
          },
          "metadata": {},
          "execution_count": 179
        }
      ],
      "source": [
        "X[np.array([0,2,4])] # 인덱스가 0,2,4인 원소만 출력"
      ]
    },
    {
      "cell_type": "code",
      "execution_count": null,
      "metadata": {
        "colab": {
          "base_uri": "https://localhost:8080/"
        },
        "id": "u-R6qna0FIrZ",
        "outputId": "c9dc925e-e9ea-4375-ceba-bdb456aa55ba"
      },
      "outputs": [
        {
          "output_type": "execute_result",
          "data": {
            "text/plain": [
              "array([ True,  True, False,  True, False, False])"
            ]
          },
          "metadata": {},
          "execution_count": 180
        }
      ],
      "source": [
        "X>15 # X의 원소 중 15보다 큰 원소 찾기"
      ]
    },
    {
      "cell_type": "code",
      "execution_count": null,
      "metadata": {
        "colab": {
          "base_uri": "https://localhost:8080/"
        },
        "id": "cH3eTldXJHn4",
        "outputId": "2ae3bcae-32e3-4f2f-97fa-fc98263db36f"
      },
      "outputs": [
        {
          "output_type": "execute_result",
          "data": {
            "text/plain": [
              "array([51, 55, 19])"
            ]
          },
          "metadata": {},
          "execution_count": 181
        }
      ],
      "source": [
        "X[X>15] # X의 원소 중 15보다 큰 원소만 선택"
      ]
    },
    {
      "cell_type": "markdown",
      "metadata": {
        "id": "FjfJoaQ9JLsw"
      },
      "source": [
        "## 1.6 matplotlib(p.41)"
      ]
    },
    {
      "cell_type": "markdown",
      "metadata": {
        "id": "RfAcyNuFJO1n"
      },
      "source": [
        "### 1.6.1 단순한 그래프 그리기"
      ]
    },
    {
      "cell_type": "code",
      "execution_count": null,
      "metadata": {
        "colab": {
          "base_uri": "https://localhost:8080/"
        },
        "id": "3aAgELUPJSZW",
        "outputId": "5ad04bf1-eca2-41cb-c1f1-ceb2767ba3ec"
      },
      "outputs": [
        {
          "output_type": "display_data",
          "data": {
            "text/plain": [
              "<Figure size 640x480 with 1 Axes>"
            ],
            "image/png": "[encoded data removed]"
          },
          "metadata": {}
        }
      ],
      "source": [
        "import numpy as np\n",
        "import matplotlib.pyplot as plt\n",
        "\n",
        "# 데이터 준비\n",
        "x = np.arange(0,6,0.1)\n",
        "y = np.sin(x)\n",
        "\n",
        "# 그래프 그리기\n",
        "plt.plot(x,y)\n",
        "plt.show()"
      ]
    },
    {
      "cell_type": "markdown",
      "metadata": {
        "id": "K4ejaxWOJeGP"
      },
      "source": [
        "### 1.6.2 pyplot의 기능"
      ]
    },
    {
      "cell_type": "code",
      "execution_count": null,
      "metadata": {
        "colab": {
          "base_uri": "https://localhost:8080/"
        },
        "id": "XeMJQHAqJkQ2",
        "outputId": "1e0daf9f-3213-417d-f2fb-a625f9c6058b"
      },
      "outputs": [
        {
          "output_type": "display_data",
          "data": {
            "text/plain": [
              "<Figure size 640x480 with 1 Axes>"
            ],
            "image/png": "[encoded data removed]"
          },
          "metadata": {}
        }
      ],
      "source": [
        "import numpy as np\n",
        "import matplotlib.pyplot as plt\n",
        "\n",
        "# 데이터 준비\n",
        "x  = np.arange(0,6,0.1)\n",
        "y1 = np.sin(x)\n",
        "y2 = np.cos(x)\n",
        "\n",
        "# 그래프 그리기\n",
        "plt.plot(x,y1,\n",
        "         label= 'sin')\n",
        "plt.plot(x,y2,\n",
        "         label= 'cos',\n",
        "         linestyle= '--')\n",
        "plt.xlabel('x')        # x축 이름\n",
        "plt.ylabel('y')        # y축 이름\n",
        "plt.title('sin & cos') # 제목\n",
        "plt.legend()\n",
        "plt.show()"
      ]
    },
    {
      "cell_type": "markdown",
      "metadata": {
        "id": "eaWo142gKQPv"
      },
      "source": [
        "### 1.6.3 이미지 표시하기"
      ]
    },
    {
      "cell_type": "code",
      "execution_count": null,
      "metadata": {
        "colab": {
          "base_uri": "https://localhost:8080/"
        },
        "id": "Yx5zPUkDK2KN",
        "outputId": "34dc992e-6e70-487c-e601-6fd14232159f"
      },
      "outputs": [
        {
          "output_type": "stream",
          "name": "stdout",
          "text": [
            "Drive already mounted at /content/drive; to attempt to forcibly remount, call drive.mount(\"/content/drive\", force_remount=True).\n"
          ]
        }
      ],
      "source": [
        "# 구글 드라이브 마운트(마운트를 해야 구글 드라이브를 활용할 수 있음)\n",
        "from google.colab import drive\n",
        "drive.mount('/content/drive')"
      ]
    },
    {
      "cell_type": "code",
      "execution_count": null,
      "metadata": {
        "colab": {
          "base_uri": "https://localhost:8080/"
        },
        "id": "aoexKF-cKjcI",
        "outputId": "b08cbec9-62c8-4803-ab37-4d3839f20412"
      },
      "outputs": [
        {
          "output_type": "display_data",
          "data": {
            "text/plain": [
              "<Figure size 640x480 with 1 Axes>"
            ],
            "image/png": "[encoded data removed]"
          },
          "metadata": {}
        }
      ],
      "source": [
        "import matplotlib.pyplot as plt\n",
        "from matplotlib.image import imread\n",
        "\n",
        "# 이미지 불러오기\n",
        "img = imread('/content/drive/MyDrive/손흥민.jpg')\n",
        "\n",
        "# 이미지 표시하기\n",
        "plt.imshow(img)\n",
        "plt.show()"
      ]
    }
  ],
  "metadata": {
    "colab": {
      "collapsed_sections": [
        "TH4JWz15u2SI",
        "ZQy3DX972Ugs",
        "jvzDeXKK4v9S",
        "FjfJoaQ9JLsw"
      ],
      "toc_visible": true,
      "provenance": [],
      "authorship_tag": "ABX9TyN1h97stcrcOPdva/0vN2Fu",
      "include_colab_link": true
    },
    "kernelspec": {
      "display_name": "Python 3",
      "name": "python3"
    },
    "language_info": {
      "name": "python"
    }
  },
  "nbformat": 4,
  "nbformat_minor": 0
}