{
  "nbformat": 4,
  "nbformat_minor": 0,
  "metadata": {
    "colab": {
      "provenance": [],
      "toc_visible": true,
      "collapsed_sections": [
        "5yWK464zMucD",
        "TWAX2lcqMw-K",
        "kZS8Zc9zJmNm",
        "wHgY6lL2Mn70",
        "A1ELrAVhkZKu",
        "oiDorNUDkpa-"
      ],
      "authorship_tag": "ABX9TyMkrv7jrcQu0AH/8bDvDzFD",
      "include_colab_link": true
    },
    "kernelspec": {
      "name": "python3",
      "display_name": "Python 3"
    },
    "language_info": {
      "name": "python"
    }
  },
  "cells": [
    {
      "cell_type": "markdown",
      "metadata": {
        "id": "view-in-github",
        "colab_type": "text"
      },
      "source": [
        "<a href=\"https://colab.research.google.com/github/mldlcl2022/dl_from_scratch_1/blob/main/Ch_2_%ED%8D%BC%EC%85%89%ED%8A%B8%EB%A1%A0(Perceptron).ipynb\" target=\"_parent\"><img src=\"https://colab.research.google.com/assets/colab-badge.svg\" alt=\"Open In Colab\"/></a>"
      ]
    },
    {
      "cell_type": "markdown",
      "source": [
        "* 책의 모든 코드는 구글 코랩(Google Colab)을 활용하여 실습"
      ],
      "metadata": {
        "id": "93HPlmk9QSG8"
      }
    },
    {
      "cell_type": "markdown",
      "metadata": {
        "id": "NVc2XEqKMemq"
      },
      "source": [
        "# Chapter 2. 퍼셉트론\n",
        "20240110"
      ]
    },
    {
      "cell_type": "markdown",
      "source": [],
      "metadata": {
        "id": "N1nHh1DPQQrF"
      }
    },
    {
      "cell_type": "markdown",
      "metadata": {
        "id": "5yWK464zMucD"
      },
      "source": [
        "## 2.3 퍼셉트론 구현하기(p.51)"
      ]
    },
    {
      "cell_type": "markdown",
      "metadata": {
        "id": "TWAX2lcqMw-K"
      },
      "source": [
        "### 2.3.1 간단한 구현부터"
      ]
    },
    {
      "cell_type": "code",
      "execution_count": null,
      "metadata": {
        "id": "4IfqMlizNEhd"
      },
      "outputs": [],
      "source": [
        "def AND(x1,x2) :\n",
        "  w1,w2,theta = 0.5,0.5,0.7\n",
        "  tmp = x1*w1 + x2*w2\n",
        "  if tmp <= theta :\n",
        "    return 0\n",
        "  elif tmp > theta :\n",
        "    return 1"
      ]
    },
    {
      "cell_type": "code",
      "execution_count": null,
      "metadata": {
        "colab": {
          "base_uri": "https://localhost:8080/"
        },
        "id": "-xFf7fGfI_XF",
        "outputId": "f55c2e06-8057-462a-c0f6-295fadc83cf2"
      },
      "outputs": [
        {
          "output_type": "stream",
          "name": "stdout",
          "text": [
            "0\n",
            "0\n",
            "0\n",
            "1\n"
          ]
        }
      ],
      "source": [
        "print(AND(0,0)) # x1*w1 + x2*w2 -> 0*0.5 + 0*0.5 = 0   <= theta(0.7) 이므로 0 출력\n",
        "print(AND(1,0)) # x1*w1 + x2*w2 -> 1*0.5 + 0*0.5 = 0.5 <= theta(0.7) 이므로 0 출력\n",
        "print(AND(0,1)) # x1*w1 + x2*w2 -> 0*0.5 + 1*0.5 = 0.5 <= theta(0.7) 이므로 0 출력\n",
        "print(AND(1,1)) # x1*w1 + x2*w2 -> 1*0.5 + 1*0.5 = 1   >  theta(0.7) 이므로 1 출력"
      ]
    },
    {
      "cell_type": "markdown",
      "metadata": {
        "id": "kZS8Zc9zJmNm"
      },
      "source": [
        "### 2.3.2 가중치와 편향 도입"
      ]
    },
    {
      "cell_type": "code",
      "execution_count": null,
      "metadata": {
        "colab": {
          "base_uri": "https://localhost:8080/"
        },
        "id": "8MT06UF7Kp5-",
        "outputId": "5d675d9c-c562-42a0-8c96-25bf338c5a27"
      },
      "outputs": [
        {
          "output_type": "execute_result",
          "data": {
            "text/plain": [
              "array([0. , 0.5])"
            ]
          },
          "metadata": {},
          "execution_count": 67
        }
      ],
      "source": [
        "import numpy as np\n",
        "\n",
        "x = np.array([0,1])     # 입력 신호 벡터 -> x1 = 0,   x2 = 1\n",
        "w = np.array([0.5,0.5]) # 가중치 벡터    -> w1 = 0.5, w2 = 0.5\n",
        "b = -0.7                  # 편향\n",
        "w*x                     # w1*x1, w2*x2"
      ]
    },
    {
      "cell_type": "code",
      "execution_count": null,
      "metadata": {
        "colab": {
          "base_uri": "https://localhost:8080/"
        },
        "id": "s05wuNzxMn0u",
        "outputId": "d3180a05-71df-44dc-8f69-e018f032f5df"
      },
      "outputs": [
        {
          "output_type": "execute_result",
          "data": {
            "text/plain": [
              "-0.19999999999999996"
            ]
          },
          "metadata": {},
          "execution_count": 68
        }
      ],
      "source": [
        "np.sum(w*x)+b # w1*x1 + x2*x2 + b -> 0.5*0 + 0.5*1 + (-0.7)"
      ]
    },
    {
      "cell_type": "markdown",
      "metadata": {
        "id": "wHgY6lL2Mn70"
      },
      "source": [
        "### 2.3.3 가중치와 편향 구현하기"
      ]
    },
    {
      "cell_type": "markdown",
      "metadata": {
        "id": "46xoUBqsO0dQ"
      },
      "source": [
        "#### AND 게이트\n",
        "가중치와 편향을 도입한 AND 게이트"
      ]
    },
    {
      "cell_type": "code",
      "execution_count": null,
      "metadata": {
        "id": "oGutSF8YNGJA"
      },
      "outputs": [],
      "source": [
        "def AND(x1,x2) :\n",
        "  x = np.array([x1,x2])\n",
        "  w = np.array([0.5,0.5])\n",
        "  b = -0.7\n",
        "  tmp = np.sum(w*x)+b\n",
        "  if tmp <= 0 : return 0\n",
        "  else : return 1"
      ]
    },
    {
      "cell_type": "markdown",
      "metadata": {
        "id": "YQD0icmINmt4"
      },
      "source": [
        "#### NAND 게이트와 OR 게이트"
      ]
    },
    {
      "cell_type": "code",
      "execution_count": null,
      "metadata": {
        "id": "2u3fwcbhPASx"
      },
      "outputs": [],
      "source": [
        "# NAND 게이트\n",
        "def NAND(x1,x2) :\n",
        "  x = np.array([x1,x2])\n",
        "  w = np.array([-0.5,-0.5])\n",
        "  b = 0.7\n",
        "  tmp = np.sum(w*x)+b\n",
        "  if tmp <= 0 : return 0\n",
        "  else : return 1\n",
        "\n",
        "# OR 게이트\n",
        "def OR(x1,x2) :\n",
        "  x = np.array([x1,x2])\n",
        "  w = np.array([0.5,0.5])\n",
        "  b = -0.2\n",
        "  tmp = np.sum(w*x)+b\n",
        "  if tmp <= 0 : return 0\n",
        "  else : return 1"
      ]
    },
    {
      "cell_type": "markdown",
      "metadata": {
        "id": "A1ELrAVhkZKu"
      },
      "source": [
        "## 2.5 다층 퍼셉트론이 출동한다면(p.57)"
      ]
    },
    {
      "cell_type": "markdown",
      "metadata": {
        "id": "oiDorNUDkpa-"
      },
      "source": [
        "### 2.5.2 XOR 게이트 구현하기"
      ]
    },
    {
      "cell_type": "code",
      "execution_count": null,
      "metadata": {
        "id": "aoLyuPO8l3-_"
      },
      "outputs": [],
      "source": [
        "def XOR(x1,x2) :\n",
        "  s1 = NAND(x1,x2)\n",
        "  s2 = OR(x1,x2)\n",
        "  y  = AND(s1,s2)\n",
        "  return y"
      ]
    },
    {
      "cell_type": "code",
      "execution_count": null,
      "metadata": {
        "colab": {
          "base_uri": "https://localhost:8080/"
        },
        "id": "ilvYgLabl_9Y",
        "outputId": "f13bf92b-a6af-4f41-8877-d7e1ca5c3c9a"
      },
      "outputs": [
        {
          "output_type": "stream",
          "name": "stdout",
          "text": [
            "0\n",
            "1\n",
            "1\n",
            "0\n"
          ]
        }
      ],
      "source": [
        "print(XOR(0,0)) # 0을 출력\n",
        "print(XOR(1,0)) # 1을 출력\n",
        "print(XOR(0,1)) # 1을 출력\n",
        "print(XOR(1,1)) # 0을 출력"
      ]
    }
  ]
}